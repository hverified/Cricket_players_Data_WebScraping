{
 "cells": [
  {
   "cell_type": "code",
   "execution_count": 453,
   "metadata": {},
   "outputs": [],
   "source": [
    "import requests\n",
    "from bs4 import BeautifulSoup\n",
    "import pandas as pd\n",
    "import numpy as np"
   ]
  },
  {
   "cell_type": "code",
   "execution_count": 454,
   "metadata": {},
   "outputs": [],
   "source": [
    "alphabet = 'A B C D E F G H I J K L M N O P Q R S T U V W X Y Z'.split()"
   ]
  },
  {
   "cell_type": "code",
   "execution_count": 455,
   "metadata": {},
   "outputs": [],
   "source": [
    "idList = []"
   ]
  },
  {
   "cell_type": "code",
   "execution_count": 456,
   "metadata": {},
   "outputs": [],
   "source": [
    "# Extracting the Players ids from the given website\n",
    "base_url = \"http://www.howstat.com/cricket/Statistics/Players/PlayerList.asp?Country=ALL&Group=\"\n",
    "for item in alphabet:\n",
    "    \n",
    "    page = requests.get(base_url + item +'.html')\n",
    "    soup = BeautifulSoup(page.content, \"html.parser\")\n",
    "\n",
    "    for i in soup.find_all(\"table\",class_ = \"TableLined\"):\n",
    "        for k in i.find_all(\"a\",{\"class\":\"LinkNormal\"}):\n",
    "            link = k['href']\n",
    "            if 'PlayerOverview_ODI' in link:\n",
    "                idList.append(link[-4:])"
   ]
  },
  {
   "cell_type": "code",
   "execution_count": null,
   "metadata": {},
   "outputs": [],
   "source": [
    "player_d = []"
   ]
  },
  {
   "cell_type": "code",
   "execution_count": 633,
   "metadata": {},
   "outputs": [],
   "source": [
    "base_url = \"http://www.howstat.com/cricket/Statistics/Players/PlayerOverview_ODI.asp?PlayerID=\""
   ]
  },
  {
   "cell_type": "code",
   "execution_count": 634,
   "metadata": {},
   "outputs": [],
   "source": [
    "for item in idList:\n",
    "    \n",
    "    page = requests.get(base_url + item + \".html\")\n",
    "    soup = BeautifulSoup(page.content, \"html.parser\")\n",
    "    d = {}\n",
    "    # Basic Info\n",
    "\n",
    "    d[\"Name\"] = soup.find_all(\"table\")[0].find_all(\"table\")[4].find_all(\"table\")[0].find_all(\"tr\")[2].find_all(\"td\")[1].text.replace(\"\\t\",\"\").replace(\"\\r\",\"\").replace(\"\\n\",\"\").replace(\"\\xa0\",\"\").strip()\n",
    "    d[\"DOB\"] = soup.find_all(\"table\")[0].find_all(\"table\")[4].find_all(\"table\")[0].find_all(\"tr\")[3].find_all(\"td\")[1].text.replace(\"\\t\",\"\").replace(\"\\r\",\"\").replace(\"\\n\",\"\").replace(\"\\xa0\",\"\").strip()\n",
    "    d[\"Age\"] = soup.find_all(\"table\")[0].find_all(\"table\")[4].find_all(\"table\")[0].find_all(\"tr\")[4].find_all(\"td\")[1].text.replace(\"\\t\",\"\").replace(\"\\r\",\"\").replace(\"\\n\",\"\").replace(\"\\xa0\",\"\").strip()[:2]\n",
    "    d[\"Bats(handed)\"] = soup.find_all(\"table\")[0].find_all(\"table\")[4].find_all(\"table\")[0].find_all(\"tr\")[5].find_all(\"td\")[1].text.replace(\"\\t\",\"\").replace(\"\\r\",\"\").replace(\"\\n\",\"\").replace(\"\\xa0\",\"\").strip()\n",
    "    d[\"Bowls(handed)\"] = soup.find_all(\"table\")[0].find_all(\"table\")[4].find_all(\"table\")[0].find_all(\"tr\")[6].find_all(\"td\")[1].text.replace(\"\\t\",\"\").replace(\"\\r\",\"\").replace(\"\\n\",\"\").replace(\"\\xa0\",\"\").strip()\n",
    "    d[\"Matches\"] = soup.find_all(\"table\")[0].find_all(\"table\")[4].find_all(\"table\")[0].find_all(\"tr\")[7].find_all(\"td\")[1].text.replace(\"\\t\",\"\").replace(\"\\r\",\"\").replace(\"\\n\",\"\").replace(\"\\xa0\",\"\").strip()\n",
    "\n",
    "    # Batting Info\n",
    "\n",
    "    d[\"Innings\"] = soup.find_all(\"table\")[0].find_all(\"table\")[4].find_all(\"table\")[1].find_all(\"tr\")[2].find_all(\"td\")[1].text.replace(\"\\t\",\"\").replace(\"\\r\",\"\").replace(\"\\n\",\"\").replace(\"\\xa0\",\"\").strip()\n",
    "    d[\"Not Outs\"]=soup.find_all(\"table\")[0].find_all(\"table\")[4].find_all(\"table\")[1].find_all(\"tr\")[3].find_all(\"td\")[1].text.replace(\"\\t\",\"\").replace(\"\\r\",\"\").replace(\"\\n\",\"\").replace(\"\\xa0\",\"\").strip()\n",
    "    d[\"Runs\"]=soup.find_all(\"table\")[0].find_all(\"table\")[4].find_all(\"table\")[1].find_all(\"tr\")[4].find_all(\"td\")[1].text.replace(\"\\t\",\"\").replace(\"\\r\",\"\").replace(\"\\n\",\"\").replace(\"\\xa0\",\"\").strip()\n",
    "    d[\"Highest Score\"]=soup.find_all(\"table\")[0].find_all(\"table\")[4].find_all(\"table\")[1].find_all(\"tr\")[5].find_all(\"td\")[1].text.replace(\"\\t\",\"\").replace(\"\\r\",\"\").replace(\"\\n\",\"\").replace(\"\\xa0\",\"\").strip()\n",
    "    d[\"Bat_Average\"]=soup.find_all(\"table\")[0].find_all(\"table\")[4].find_all(\"table\")[1].find_all(\"tr\")[6].find_all(\"td\")[1].text.replace(\"\\t\",\"\").replace(\"\\r\",\"\").replace(\"\\n\",\"\").replace(\"\\xa0\",\"\").strip()\n",
    "    d[\"50s\"]=soup.find_all(\"table\")[0].find_all(\"table\")[4].find_all(\"table\")[1].find_all(\"tr\")[7].find_all(\"td\")[1].text.replace(\"\\t\",\"\").replace(\"\\r\",\"\").replace(\"\\n\",\"\").replace(\"\\xa0\",\"\").strip()\n",
    "    d[\"100s\"]=soup.find_all(\"table\")[0].find_all(\"table\")[4].find_all(\"table\")[1].find_all(\"tr\")[8].find_all(\"td\")[1].text.replace(\"\\t\",\"\").replace(\"\\r\",\"\").replace(\"\\n\",\"\").replace(\"\\xa0\",\"\").strip()\n",
    "    d[\"Ducks\"]=soup.find_all(\"table\")[0].find_all(\"table\")[4].find_all(\"table\")[1].find_all(\"tr\")[9].find_all(\"td\")[1].text.replace(\"\\t\",\"\").replace(\"\\r\",\"\").replace(\"\\n\",\"\").replace(\"\\xa0\",\"\").strip()\n",
    "    d[\"4s\"]=soup.find_all(\"table\")[0].find_all(\"table\")[4].find_all(\"table\")[1].find_all(\"tr\")[10].find_all(\"td\")[1].text.replace(\"\\t\",\"\").replace(\"\\r\",\"\").replace(\"\\n\",\"\").replace(\"\\xa0\",\"\").strip()\n",
    "    d[\"6s\"]=soup.find_all(\"table\")[0].find_all(\"table\")[4].find_all(\"table\")[1].find_all(\"tr\")[11].find_all(\"td\")[1].text.replace(\"\\t\",\"\").replace(\"\\r\",\"\").replace(\"\\n\",\"\").replace(\"\\xa0\",\"\").strip()\n",
    "    d[\"Balls Faced\"]=soup.find_all(\"table\")[0].find_all(\"table\")[4].find_all(\"table\")[1].find_all(\"tr\")[12].find_all(\"td\")[1].text.replace(\"\\t\",\"\").replace(\"\\r\",\"\").replace(\"\\n\",\"\").replace(\"\\xa0\",\"\").strip()\n",
    "    d[\"Strike Rate\"]=soup.find_all(\"table\")[0].find_all(\"table\")[4].find_all(\"table\")[1].find_all(\"tr\")[13].find_all(\"td\")[1].text.replace(\"\\t\",\"\").replace(\"\\r\",\"\").replace(\"\\n\",\"\").replace(\"\\xa0\",\"\").strip()\n",
    "    d[\"Opening Batting\"]=soup.find_all(\"table\")[0].find_all(\"table\")[4].find_all(\"table\")[1].find_all(\"tr\")[14].find_all(\"td\")[1].text.replace(\"\\t\",\"\").replace(\"\\r\",\"\").replace(\"\\n\",\"\").replace(\"\\xa0\",\"\").strip()\n",
    "\n",
    "    # Bowling Info\n",
    "    try:\n",
    "        d[\"Overs\"]=soup.find_all(\"table\")[0].find_all(\"table\")[4].find_all(\"table\")[1].find_all(\"tr\")[17].find_all(\"td\")[1].text.replace(\"\\t\",\"\").replace(\"\\r\",\"\").replace(\"\\n\",\"\").replace(\"\\xa0\",\"\").strip()\n",
    "    except:\n",
    "        d[\"Overs\"]=None\n",
    "    try:\n",
    "        d[\"Balls\"]=soup.find_all(\"table\")[0].find_all(\"table\")[4].find_all(\"table\")[1].find_all(\"tr\")[18].find_all(\"td\")[1].text.replace(\"\\t\",\"\").replace(\"\\r\",\"\").replace(\"\\n\",\"\").replace(\"\\xa0\",\"\").strip()\n",
    "    except:\n",
    "        d[\"Balls\"]=None\n",
    "    try:\n",
    "        d[\"Maidens\"]=soup.find_all(\"table\")[0].find_all(\"table\")[4].find_all(\"table\")[1].find_all(\"tr\")[19].find_all(\"td\")[1].text.replace(\"\\t\",\"\").replace(\"\\r\",\"\").replace(\"\\n\",\"\").replace(\"\\xa0\",\"\").strip()\n",
    "    except:\n",
    "        d[\"Maidens\"]=None\n",
    "    try:\n",
    "        d[\"Runs_Conceded\"]=soup.find_all(\"table\")[0].find_all(\"table\")[4].find_all(\"table\")[1].find_all(\"tr\")[20].find_all(\"td\")[1].text.replace(\"\\t\",\"\").replace(\"\\r\",\"\").replace(\"\\n\",\"\").replace(\"\\xa0\",\"\").strip()\n",
    "    except:\n",
    "        d[\"Runs_Conceded\"]=None\n",
    "    try:\n",
    "        d[\"Wickets\"]=soup.find_all(\"table\")[0].find_all(\"table\")[4].find_all(\"table\")[1].find_all(\"tr\")[21].find_all(\"td\")[1].text.replace(\"\\t\",\"\").replace(\"\\r\",\"\").replace(\"\\n\",\"\").replace(\"\\xa0\",\"\").strip()\n",
    "    except:\n",
    "        d[\"Wickets\"]=None\n",
    "    try:\n",
    "        d[\"Balls_Average\"]=soup.find_all(\"table\")[0].find_all(\"table\")[4].find_all(\"table\")[1].find_all(\"tr\")[22].find_all(\"td\")[1].text.replace(\"\\t\",\"\").replace(\"\\r\",\"\").replace(\"\\n\",\"\").replace(\"\\xa0\",\"\").strip()\n",
    "    except:\n",
    "        d[\"Balls_Average\"]=None\n",
    "    try:\n",
    "        d[\"4 Wickets in Inn\"]=soup.find_all(\"table\")[0].find_all(\"table\")[4].find_all(\"table\")[1].find_all(\"tr\")[23].find_all(\"td\")[1].text.replace(\"\\t\",\"\").replace(\"\\r\",\"\").replace(\"\\n\",\"\").replace(\"\\xa0\",\"\").strip()\n",
    "    except:\n",
    "        d[\"4 Wickets in Inn\"]=None\n",
    "    try:\n",
    "        d[\"Bowling_Best\"]=soup.find_all(\"table\")[0].find_all(\"table\")[4].find_all(\"table\")[1].find_all(\"tr\")[24].find_all(\"td\")[1].text.replace(\"\\t\",\"\").replace(\"\\r\",\"\").replace(\"\\n\",\"\").replace(\"\\xa0\",\"\").strip()\n",
    "    except:\n",
    "        d[\"Bowling_Best\"]=None\n",
    "    try:\n",
    "        d[\"Economy_Rate\"]=soup.find_all(\"table\")[0].find_all(\"table\")[4].find_all(\"table\")[1].find_all(\"tr\")[25].find_all(\"td\")[1].text.replace(\"\\t\",\"\").replace(\"\\r\",\"\").replace(\"\\n\",\"\").replace(\"\\xa0\",\"\").strip()\n",
    "    except:\n",
    "        d[\"Economy_Rate\"]=None\n",
    "    try:\n",
    "        d[\"Bowl_Strike_rate\"]=soup.find_all(\"table\")[0].find_all(\"table\")[4].find_all(\"table\")[1].find_all(\"tr\")[26].find_all(\"td\")[1].text.replace(\"\\t\",\"\").replace(\"\\r\",\"\").replace(\"\\n\",\"\").replace(\"\\xa0\",\"\").strip()\n",
    "    except:\n",
    "        d[\"Bowl_Strike_rate\"]=None\n",
    "        \n",
    "    player_d.append(d)"
   ]
  },
  {
   "cell_type": "code",
   "execution_count": 635,
   "metadata": {},
   "outputs": [],
   "source": [
    "df = pd.DataFrame(player_d)"
   ]
  },
  {
   "cell_type": "code",
   "execution_count": 637,
   "metadata": {},
   "outputs": [],
   "source": [
    "df.to_csv(\"Cricket_Players_Data.csv\")"
   ]
  },
  {
   "cell_type": "code",
   "execution_count": null,
   "metadata": {},
   "outputs": [],
   "source": []
  }
 ],
 "metadata": {
  "kernelspec": {
   "display_name": "Python 3",
   "language": "python",
   "name": "python3"
  },
  "language_info": {
   "codemirror_mode": {
    "name": "ipython",
    "version": 3
   },
   "file_extension": ".py",
   "mimetype": "text/x-python",
   "name": "python",
   "nbconvert_exporter": "python",
   "pygments_lexer": "ipython3",
   "version": "3.7.1"
  }
 },
 "nbformat": 4,
 "nbformat_minor": 2
}
